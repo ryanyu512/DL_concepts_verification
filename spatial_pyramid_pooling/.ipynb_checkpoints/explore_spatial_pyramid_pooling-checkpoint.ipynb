{
 "cells": [
  {
   "cell_type": "markdown",
   "id": "303ab4f1",
   "metadata": {},
   "source": [
    "UPDATE ON 2023/04/20\n",
    "\n",
    "1. Aims at verifying the concept of spp\n",
    "2. Tensorflow has provided the API of [spatial pyramid pooling](https://www.tensorflow.org/addons/api_docs/python/tfa/layers/SpatialPyramidPooling2D)"
   ]
  },
  {
   "cell_type": "code",
   "execution_count": 1,
   "id": "cb8aea3b",
   "metadata": {},
   "outputs": [],
   "source": [
    "import numpy as np\n",
    "import tensorflow as tf"
   ]
  },
  {
   "cell_type": "code",
   "execution_count": 2,
   "id": "c772330f",
   "metadata": {},
   "outputs": [],
   "source": [
    "class Spatial_Pyramid_Pooling(tf.keras.layers.Layer):\n",
    "    \n",
    "    def __init__(self, pool_list = [1, 2, 4]):\n",
    "        super(Spatial_Pyramid_Pooling, self).__init__()\n",
    "        self.pool_list = pool_list\n",
    "        self.out_len   = sum([p_size*p_size for p_size in pool_list])\n",
    "\n",
    "    def call(self, x):\n",
    "        \n",
    "        #assume the input is channel last \n",
    "        #input = [batch, height, width, channels]\n",
    "                \n",
    "        n_batch = x.shape[0]\n",
    "        n_ch    = x.shape[-1]\n",
    "        \n",
    "        #compute the number of cols/rows in one grid cell of each pooling\n",
    "        n_cols_per_grid  = [tf.cast(x.shape[2]/p_size, tf.float32) for p_size in self.pool_list]\n",
    "        n_rows_per_grid  = [tf.cast(x.shape[1]/p_size, tf.float32) for p_size in self.pool_list]\n",
    "        \n",
    "        outs = [None]*self.out_len\n",
    "        cnt = 0\n",
    "        for i, p_size in enumerate(self.pool_list):\n",
    "            for j in range(p_size):\n",
    "                for k in range(p_size):\n",
    "                    c0 = j*n_cols_per_grid[i]\n",
    "                    c1 = c0 + n_cols_per_grid[i]\n",
    "                    r0 = k*n_rows_per_grid[i]\n",
    "                    r1 = r0 + n_rows_per_grid[i]\n",
    "                    \n",
    "                    c0, c1 = tf.round(c0), tf.round(c1)\n",
    "                    r0, r1 = tf.round(r0), tf.round(r1)\n",
    "                    c0, c1 = tf.cast(c0, tf.int32), tf.cast(c1, tf.int32)\n",
    "                    r0, r1 = tf.cast(r0, tf.int32), tf.cast(r1, tf.int32)\n",
    "                               \n",
    "                    new_shape = [n_batch, \n",
    "                                 r1 - r0, \n",
    "                                 c1 - c0, \n",
    "                                 n_ch]\n",
    "                    crop_x = x[:, r0:r1, c0:c1, :]\n",
    "                    pool_out = tf.math.reduce_max(crop_x, axis = (1, 2))\n",
    "                    outs[cnt] = pool_out\n",
    "                    cnt += 1\n",
    "        \n",
    "        outs = tf.transpose(np.array(outs), perm = (1, 2, 0))\n",
    "        outs = tf.reshape(outs, (outs.shape[0], outs.shape[1]*outs.shape[2]))\n",
    "        \n",
    "        return outs\n",
    "                "
   ]
  },
  {
   "cell_type": "markdown",
   "id": "71166208",
   "metadata": {},
   "source": [
    "If the height and width of conv_out are changed and fed into spp(), the shape of spp_out will still be the same. This verifies that spp has the ability to handle various image shape."
   ]
  },
  {
   "cell_type": "code",
   "execution_count": 3,
   "id": "5364c042",
   "metadata": {},
   "outputs": [
    {
     "name": "stdout",
     "output_type": "stream",
     "text": [
      "conv_out1.shape:  (16, 20, 20, 256)\n",
      "conv_out2.shape:  (16, 5, 5, 256)\n"
     ]
    }
   ],
   "source": [
    "#conv_out = [N_batch, Height, Width, N_channel]\n",
    "conv_out1 = np.random.rand(16,  20,  20, 256)\n",
    "conv_out2 = np.random.rand(16,   5,   5, 256)\n",
    "print('conv_out1.shape: ', conv_out1.shape)\n",
    "print('conv_out2.shape: ', conv_out2.shape)"
   ]
  },
  {
   "cell_type": "code",
   "execution_count": 4,
   "id": "f9182b84",
   "metadata": {},
   "outputs": [],
   "source": [
    "spp = Spatial_Pyramid_Pooling()"
   ]
  },
  {
   "cell_type": "code",
   "execution_count": 5,
   "id": "77f34337",
   "metadata": {
    "scrolled": false
   },
   "outputs": [
    {
     "name": "stdout",
     "output_type": "stream",
     "text": [
      "Metal device set to: Apple M1\n"
     ]
    },
    {
     "name": "stderr",
     "output_type": "stream",
     "text": [
      "2023-04-20 01:00:28.706616: I tensorflow/core/common_runtime/pluggable_device/pluggable_device_factory.cc:305] Could not identify NUMA node of platform GPU ID 0, defaulting to 0. Your kernel may not have been built with NUMA support.\n",
      "2023-04-20 01:00:28.709369: I tensorflow/core/common_runtime/pluggable_device/pluggable_device_factory.cc:271] Created TensorFlow device (/job:localhost/replica:0/task:0/device:GPU:0 with 0 MB memory) -> physical PluggableDevice (device: 0, name: METAL, pci bus id: <undefined>)\n"
     ]
    }
   ],
   "source": [
    "spp_out1 = spp(conv_out1)\n",
    "spp_out2 = spp(conv_out2)"
   ]
  },
  {
   "cell_type": "code",
   "execution_count": 6,
   "id": "c80b1b60",
   "metadata": {},
   "outputs": [
    {
     "name": "stdout",
     "output_type": "stream",
     "text": [
      "spp_out1.shape (16, 5376)\n",
      "spp_out2.shape (16, 5376)\n"
     ]
    }
   ],
   "source": [
    "print('spp_out1.shape', spp_out1.shape)\n",
    "print('spp_out2.shape', spp_out2.shape)\n",
    "assert spp_out1.shape == spp_out2.shape"
   ]
  },
  {
   "cell_type": "code",
   "execution_count": null,
   "id": "8452568e",
   "metadata": {},
   "outputs": [],
   "source": []
  },
  {
   "cell_type": "raw",
   "id": "b04d5063",
   "metadata": {},
   "source": []
  }
 ],
 "metadata": {
  "kernelspec": {
   "display_name": "Python 3 (ipykernel)",
   "language": "python",
   "name": "python3"
  },
  "language_info": {
   "codemirror_mode": {
    "name": "ipython",
    "version": 3
   },
   "file_extension": ".py",
   "mimetype": "text/x-python",
   "name": "python",
   "nbconvert_exporter": "python",
   "pygments_lexer": "ipython3",
   "version": "3.10.9"
  }
 },
 "nbformat": 4,
 "nbformat_minor": 5
}
